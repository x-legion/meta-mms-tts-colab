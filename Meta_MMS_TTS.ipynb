{
  "nbformat": 4,
  "nbformat_minor": 0,
  "metadata": {
    "colab": {
      "provenance": []
    },
    "kernelspec": {
      "name": "python3",
      "display_name": "Python 3"
    },
    "language_info": {
      "name": "python"
    }
  },
  "cells": [
    {
      "cell_type": "markdown",
      "source": [
        "# Meta MMS TTS\n",
        "[Language Codes](https://github.com/wannaphong/ttsmms/blob/main/support_list.txt)"
      ],
      "metadata": {
        "id": "_HIicpxj1zNO"
      }
    },
    {
      "cell_type": "code",
      "execution_count": null,
      "metadata": {
        "cellView": "form",
        "id": "CQjcLUj21kpm"
      },
      "outputs": [],
      "source": [
        "!pip install ttsmms\n",
        "language_code = \"\" #@param [\"eng\", \"ben\"] {allow-input: true}\n",
        "!curl https://dl.fbaipublicfiles.com/mms/tts/{language_code}.tar.gz --output {language_code}.tar.gz #update lang\n",
        "!mkdir -p data && tar -xzf {language_code}.tar.gz -C data/\n",
        "from ttsmms import TTS\n",
        "tts = TTS(f\"data/{language_code}\")\n",
        "text = '' #@param {type:\"string\"}\n",
        "wav_text =tts.synthesis(text)\n",
        "from IPython.display import Audio\n",
        "Audio(wav_text[\"x\"], rate=wav[\"sampling_rate\"])"
      ]
    }
  ]
}